{
  "cells": [
    {
      "cell_type": "markdown",
      "source": [
        "# Automated ML\n",
        "\n",
        "TODO: Import Dependencies. In the cell below, import all the dependencies that you will need to complete the project."
      ],
      "metadata": {}
    },
    {
      "cell_type": "code",
      "source": [
        "import os\r\n",
        "import joblib\r\n",
        "from azureml.core import Workspace, Experiment\r\n",
        "from azureml.data.dataset_factory import TabularDatasetFactory\r\n",
        "from azureml.core.compute import ComputeTarget, AmlCompute\r\n",
        "from azureml.train.automl import AutoMLConfig\r\n",
        "from azureml.core.compute_target import ComputeTargetException\r\n",
        "from azureml.contrib.pipeline.steps import ParallelRunStep, ParallelRunConfig\r\n",
        "\r\n",
        "from matplotlib import pyplot as plt\r\n",
        "import numpy as np\r\n",
        "import pandas as pd\r\n",
        "\r\n",
        "ws = Workspace.from_config()\r\n",
        "print(ws.name, ws.resource_group, ws.location, ws.subscription_id, sep = '\\n')"
      ],
      "outputs": [
        {
          "output_type": "stream",
          "name": "stdout",
          "text": [
            "quick-starts-ws-140495\n",
            "aml-quickstarts-140495\n",
            "southcentralus\n",
            "f5091c60-1c3c-430f-8d81-d802f6bf2414\n"
          ]
        }
      ],
      "execution_count": 13,
      "metadata": {
        "gather": {
          "logged": 1615832776317
        },
        "jupyter": {
          "outputs_hidden": false,
          "source_hidden": false
        },
        "nteract": {
          "transient": {
            "deleting": false
          }
        }
      }
    },
    {
      "cell_type": "markdown",
      "source": [
        "## Dataset\n",
        "\n",
        "### Overview\n",
        "TODO: In this markdown cell, give an overview of the dataset you are using. Also mention the task you will be performing.\n",
        "\n",
        "\n",
        "TODO: Get data. In the cell below, write code to access the data you will be using in this project. Remember that the dataset needs to be external."
      ],
      "metadata": {}
    },
    {
      "cell_type": "code",
      "source": [
        "#create compute cluster\n",
        "amlcompute_cluster_name=\"aml-compute\"\n",
        "\n",
        "#verify that cluster does not already exist\n",
        "try:\n",
        "    aml_compute=ComputeTarget(workspace=ws, name=amlcompute_cluster_name)\n",
        "    print('Found existing cluster, use it.')\n",
        "except ComputeTargetException:\n",
        "    compute_config=AmlCompute.provisioning_configuration(vm_size=\"Standard_DS12_V2\",max_nodes=5)\n",
        "    aml_compute=ComputeTarget.create(ws,amlcompute_cluster_name,compute_config)\n",
        "\n",
        "aml_compute.wait_for_completion(show_output=True)"
      ],
      "outputs": [
        {
          "output_type": "stream",
          "name": "stdout",
          "text": [
            "Found existing cluster, use it.\n",
            "Succeeded\n",
            "AmlCompute wait for completion finished\n",
            "\n",
            "Minimum number of nodes requested have been provisioned\n"
          ]
        }
      ],
      "execution_count": 14,
      "metadata": {
        "gather": {
          "logged": 1615832779785
        },
        "jupyter": {
          "outputs_hidden": false,
          "source_hidden": false
        },
        "nteract": {
          "transient": {
            "deleting": false
          }
        }
      }
    },
    {
      "cell_type": "code",
      "source": [
        "# Create TabularDataset using TabularDatasetFactory\r\n",
        "# Data is available at: \r\n",
        "auto_ds_path=\"https://raw.githubusercontent.com/QuirkyDataScientist1978/Microsoft-Azure-Machine-Learning-Engineer-Capstone-Project-Udacity-Final-Solution-Submission/main/heart_failure_clinical_records_dataset.csv\"\r\n",
        "ds=TabularDatasetFactory.from_delimited_files(path=auto_ds_path)\r\n",
        "\r\n",
        "#preview data\r\n",
        "df = ds.to_pandas_dataframe()\r\n",
        "df.describe()"
      ],
      "outputs": [],
      "execution_count": 15,
      "metadata": {
        "collapsed": true,
        "jupyter": {
          "source_hidden": false,
          "outputs_hidden": false
        },
        "nteract": {
          "transient": {
            "deleting": false
          }
        },
        "gather": {
          "logged": 1615828381918
        }
      }
    },
    {
      "cell_type": "code",
      "source": [
        "from azureml.core.dataset import Dataset\r\n",
        "from sklearn.model_selection import train_test_split\r\n",
        "\r\n",
        "key = 'heart_failure_clinical_records_dataset'\r\n",
        "if key in ws.datasets.keys():\r\n",
        "    dataset = ws.datasets[key]\r\n",
        "    print(\"The dataset was found!\")\r\n",
        "\r\n",
        "else:\r\n",
        "    url = auto_ds_path\r\n",
        "    dataset = Dataset.Tabular.from_delimited_files(url)\r\n",
        "    dataset = dataset.register(ws,key)\r\n",
        "\r\n",
        "df1 = dataset.to_pandas_dataframe()\r\n",
        "train, test = train_test_split(df1, shuffle=True)\r\n",
        "train.to_csv('train.csv', index = False)\r\n",
        "\r\n",
        "datastore = ws.get_default_datastore()\r\n",
        "datastore.upload_files(files = ['./train.csv'])\r\n",
        "\r\n",
        "train = Dataset.Tabular.from_delimited_files([(datastore, 'train.csv')])"
      ],
      "outputs": [],
      "execution_count": null,
      "metadata": {
        "collapsed": true,
        "jupyter": {
          "source_hidden": false,
          "outputs_hidden": false
        },
        "nteract": {
          "transient": {
            "deleting": false
          }
        }
      }
    },
    {
      "cell_type": "markdown",
      "source": [
        "## AutoML Configuration\n",
        "\n",
        "TODO: Explain why you chose the automl settings and cofiguration you used below."
      ],
      "metadata": {}
    },
    {
      "cell_type": "code",
      "source": [
        "from azureml.train.automl import AutoMLConfig\n",
        "import logging\n",
        "import time\n",
        "\n",
        "# TODO: Put your automl settings here\n",
        "automl_settings = {\n",
        "    \"n_cross_validations\":2,\n",
        "    \"primary_metric\":'accuracy',\n",
        "    \"enable_early_stopping\":True,\n",
        "    \"experiment_timeout_minutes\":45,\n",
        "    \"max_concurrent_iterations\":10,\n",
        "   }\n",
        "\n",
        "# TODO: Put your automl config here\n",
        "automl_config = AutoMLConfig(\n",
        "    task='classification',\n",
        "    compute_target='aml-compute',\n",
        "    blocked_models = ['XGBoostClassifier'],\n",
        "    training_data=train,\n",
        "    label_column_name='DEATH_EVENT',\n",
        "    featurization = 'auto',\n",
        "    debug_log = \"automl_errors.log\",\n",
        "    **automl_settings\n",
        "    )"
      ],
      "outputs": [],
      "execution_count": null,
      "metadata": {
        "gather": {
          "logged": 1615831457404
        },
        "jupyter": {
          "outputs_hidden": false,
          "source_hidden": false
        },
        "nteract": {
          "transient": {
            "deleting": false
          }
        }
      }
    },
    {
      "cell_type": "code",
      "source": [
        "from azureml.core.experiment import Experiment\r\n",
        "# choose a name for experiment\r\n",
        "experiment_name = 'automl_run'\r\n",
        "experiment=Experiment(ws, experiment_name)\r\n",
        "\r\n",
        "# TODO: Submit your experiment\r\n",
        "remote_run = experiment.submit(automl_config, show_output=True)"
      ],
      "outputs": [],
      "execution_count": null,
      "metadata": {
        "collapsed": true,
        "jupyter": {
          "source_hidden": false,
          "outputs_hidden": false
        },
        "nteract": {
          "transient": {
            "deleting": false
          }
        },
        "gather": {
          "logged": 1615831427055
        }
      }
    },
    {
      "cell_type": "markdown",
      "source": [
        "## Run Details\n",
        "\n",
        "OPTIONAL: Write about the different models trained and their performance. Why do you think some models did better than others?\n",
        "\n",
        "TODO: In the cell below, use the `RunDetails` widget to show the different experiments."
      ],
      "metadata": {}
    },
    {
      "cell_type": "code",
      "source": [
        "from azureml.widgets import RunDetails\r\n",
        "RunDetails(remote_run).show()\r\n",
        "remote_run.wait_for_completion(show_output=True)"
      ],
      "outputs": [],
      "execution_count": null,
      "metadata": {
        "gather": {
          "logged": 1598431121770
        },
        "jupyter": {
          "outputs_hidden": false,
          "source_hidden": false
        },
        "nteract": {
          "transient": {
            "deleting": false
          }
        }
      }
    },
    {
      "cell_type": "markdown",
      "source": [
        "## Best Model\n",
        "\n",
        "TODO: In the cell below, get the best model from the automl experiments and display all the properties of the model.\n",
        "\n"
      ],
      "metadata": {}
    },
    {
      "cell_type": "code",
      "source": [
        "# Retrieve and save your best automl model.\r\n",
        "best_remote_run,best_automl_model=remote_run.get_output()\r\n",
        "best_run_metrics=remote_run.get_metrics()\r\n",
        "for primary_metric in best_run_metrics:\r\n",
        "    metric=best_run_metrics[primary_metric]\r\n",
        "    print(primary_metric,metric)"
      ],
      "outputs": [],
      "execution_count": null,
      "metadata": {
        "gather": {
          "logged": 1598431425670
        },
        "jupyter": {
          "outputs_hidden": false,
          "source_hidden": false
        },
        "nteract": {
          "transient": {
            "deleting": false
          }
        }
      }
    },
    {
      "cell_type": "code",
      "source": [
        "#TODO: Save the best model\r\n",
        "print(best_remote_run)\r\n",
        "best_remote_run"
      ],
      "outputs": [],
      "execution_count": null,
      "metadata": {
        "gather": {
          "logged": 1598431426111
        },
        "jupyter": {
          "outputs_hidden": false,
          "source_hidden": false
        },
        "nteract": {
          "transient": {
            "deleting": false
          }
        }
      }
    },
    {
      "cell_type": "code",
      "source": [
        "#TODO: Save the best model\r\n",
        "import pickle\r\n",
        "best_remote_run,best_automl_model=remote_run.get_output()\r\n",
        "#joblib.dump(value=best_automl_model,filename='automl_model.joblib')\r\n",
        "pkl_filename = \"automl_model.pkl\"\r\n",
        "with open(pkl_filename,'wb') as f:\r\n",
        "    pickle.dump(best_automl_model,f)"
      ],
      "outputs": [],
      "execution_count": null,
      "metadata": {
        "collapsed": true,
        "jupyter": {
          "source_hidden": false,
          "outputs_hidden": false
        },
        "nteract": {
          "transient": {
            "deleting": false
          }
        }
      }
    },
    {
      "cell_type": "markdown",
      "source": [
        "## Model Deployment\n",
        "\n",
        "Remember you have to deploy only one of the two models you trained.. Perform the steps in the rest of this notebook only if you wish to deploy this model.\n",
        "\n",
        "TODO: In the cell below, register the model, create an inference config and deploy the model as a web service."
      ],
      "metadata": {}
    },
    {
      "cell_type": "code",
      "source": [
        "from azureml.core.model import Model\r\n",
        "# Register model\r\n",
        "model = Model.register(workspace = ws,\r\n",
        "                        model_name = \"Heart_failure_prediction\",\r\n",
        "                        model_path = \"./automl_model.pkl\",\r\n",
        "                        description = \"Best AutoML Model\",)"
      ],
      "outputs": [],
      "execution_count": null,
      "metadata": {
        "gather": {
          "logged": 1598431435189
        },
        "jupyter": {
          "outputs_hidden": false,
          "source_hidden": false
        },
        "nteract": {
          "transient": {
            "deleting": false
          }
        }
      }
    },
    {
      "cell_type": "markdown",
      "source": [
        "TODO: In the cell below, send a request to the web service you deployed to test it."
      ],
      "metadata": {
        "collapsed": true,
        "gather": {
          "logged": 1598431657736
        },
        "jupyter": {
          "outputs_hidden": false,
          "source_hidden": false
        },
        "nteract": {
          "transient": {
            "deleting": false
          }
        }
      }
    },
    {
      "cell_type": "code",
      "source": [
        "from azureml.core.model import InferenceConfig\r\n",
        "from azureml.core.webservice import AciWebservice\r\n",
        "from azureml.core.environment import Environment\r\n",
        "from azureml.core.conda_dependencies import CondaDependencies\r\n",
        "\r\n",
        "\r\n",
        "#defining an inference configuration\r\n",
        "service_name = 'heart-failure-automl'\r\n",
        "\r\n",
        "#setting up a curated environment\r\n",
        "from azureml.automl.core.shared import constants\r\n",
        "best_remote_run.download_file(constants.CONDA_ENV_FILE_PATH, 'azureml-automl.yml')\r\n",
        "env = Environment.get(ws, name=\"azureml-automl\")\r\n",
        "\r\n",
        "#combining scoring script and environment in inference configuration\r\n",
        "inference_config = InferenceConfig(entry_script='scoring.py', environment=env)\r\n",
        "\r\n",
        "#deploy the model as a webservice\r\n",
        "from azureml.core.webservice import LocalWebservice, Webservice\r\n",
        "\r\n",
        "#set deployment configuration\r\n",
        "local_deployment_config = LocalWebservice.deploy_configuration(port=8000)\r\n",
        "service = Model.deploy(ws, \"heart-failure-automl\", [model], inference_config, local_deployment_config)\r\n",
        "\r\n",
        "print(service.state)\r\n",
        "\r\n",
        "aci_config = AciWebservice.deploy_configuration(cpu_cores=1, memory_gb=1, enable_app_insights=True, auth_enabled=True) #service.update\r\n",
        "\r\n",
        "service = Model.deploy(workspace=ws,\r\n",
        "                        name='heart-failure-automl',\r\n",
        "                        models=[model],\r\n",
        "                        inference_config=inference_config,\r\n",
        "                        deployment_config=aci_config,\r\n",
        "                        overwrite=True)\r\n",
        "service.wait_for_deployment(show_output=True)"
      ],
      "outputs": [],
      "execution_count": null,
      "metadata": {
        "gather": {
          "logged": 1598432707604
        },
        "jupyter": {
          "outputs_hidden": false,
          "source_hidden": false
        },
        "nteract": {
          "transient": {
            "deleting": false
          }
        }
      }
    },
    {
      "cell_type": "code",
      "source": [
        "#retrieve deployed model uri\r\n",
        "print(service.scoring_uri)\r\n",
        "print(service.swagger_uri)"
      ],
      "outputs": [],
      "execution_count": null,
      "metadata": {
        "collapsed": true,
        "jupyter": {
          "source_hidden": false,
          "outputs_hidden": false
        },
        "nteract": {
          "transient": {
            "deleting": false
          }
        }
      }
    },
    {
      "cell_type": "code",
      "source": [
        "#retrive primary key\r\n",
        "primary, secondary= service.get_keys()\r\n",
        "print(primary)"
      ],
      "outputs": [],
      "execution_count": null,
      "metadata": {
        "collapsed": true,
        "jupyter": {
          "source_hidden": false,
          "outputs_hidden": false
        },
        "nteract": {
          "transient": {
            "deleting": false
          }
        }
      }
    },
    {
      "cell_type": "code",
      "source": [
        "#Testing of the deployed webservice\r\n",
        "import requests\r\n",
        "import json\r\n",
        "import pandas as pd\r\n",
        "import numpy as np\r\n",
        "\r\n",
        "# URL for the web service\r\n",
        "scoring_uri = service.scoring_uri\r\n",
        "# If the service is authenticated, set the key or token\r\n",
        "key = primary\r\n",
        "\r\n",
        "# Two sets of data to score, so we get two results back\r\n",
        "data = {\"data\":\r\n",
        "        [\r\n",
        "            {\r\n",
        "               \"age\":55,\r\n",
        "               \"anaemia\":0,\r\n",
        "               \"creatinine_phosphokinase\":7861,\r\n",
        "               \"diabetes\":0,\r\n",
        "               \"ejection_fraction\":38,\r\n",
        "               \"high_blood_pressure\":0,\r\n",
        "               \"platelets\":263358.03,\r\n",
        "               \"serum_creatinine\":1.1,\r\n",
        "               \"serum_sodium\":136,\r\n",
        "               \"sex\":1,\r\n",
        "               \"smoking\":0,\r\n",
        "               \"time\":6\r\n",
        "               },\r\n",
        "            {\r\n",
        "               \"age\":60,\r\n",
        "               \"anaemia\":0,\r\n",
        "               \"creatinine_phosphokinase\":68,\r\n",
        "               \"diabetes\":0,\r\n",
        "               \"ejection_fraction\":20,\r\n",
        "               \"high_blood_pressure\":0,\r\n",
        "               \"platelets\":119000,\r\n",
        "               \"serum_creatinine\":2.9,\r\n",
        "               \"serum_sodium\":127,\r\n",
        "               \"sex\":1,\r\n",
        "               \"smoking\":1,\r\n",
        "               \"time\":64\r\n",
        "                }\r\n",
        "        ]\r\n",
        "        }\r\n",
        "# data = {\"data\":\r\n",
        "#         [\r\n",
        "#             [55, 0, 7861, 0, 38, 0, 263358.03, 1.1, 136, 1, 0, 6],\r\n",
        "#             [60, 0, 68, 0, 20, 0, 119000, 2.9, 127, 1, 1, 64]\r\n",
        "               \r\n",
        "#         ]\r\n",
        "#         }\r\n",
        "\r\n",
        "#d=pd.DataFrame(data)\r\n",
        "#d=d.to_dict()\r\n",
        "# Convert to JSON string\r\n",
        "input_data = json.dumps(data)\r\n",
        "\r\n",
        "# Set the content type\r\n",
        "headers = {'Content-Type': 'application/json'}\r\n",
        "# If authentication is enabled, set the authorization header\r\n",
        "headers['Authorization'] = f'Bearer {primary}'\r\n",
        "\r\n",
        "# Make the request and display the response\r\n",
        "resp = requests.post(scoring_uri, input_data, headers=headers)\r\n",
        "print(resp.text)"
      ],
      "outputs": [],
      "execution_count": null,
      "metadata": {
        "collapsed": true,
        "jupyter": {
          "source_hidden": false,
          "outputs_hidden": false
        },
        "nteract": {
          "transient": {
            "deleting": false
          }
        }
      }
    },
    {
      "cell_type": "markdown",
      "source": [
        "TODO: In the cell below, print the logs of the web service and delete the service"
      ],
      "metadata": {
        "collapsed": true,
        "gather": {
          "logged": 1598432765711
        },
        "jupyter": {
          "outputs_hidden": false,
          "source_hidden": false
        },
        "nteract": {
          "transient": {
            "deleting": false
          }
        }
      }
    },
    {
      "cell_type": "code",
      "source": [
        "#logs of the webservice\r\n",
        "logs=service.get_logs()\r\n",
        "print(logs)"
      ],
      "outputs": [],
      "execution_count": null,
      "metadata": {
        "jupyter": {
          "outputs_hidden": false,
          "source_hidden": false
        },
        "nteract": {
          "transient": {
            "deleting": false
          }
        }
      }
    },
    {
      "cell_type": "code",
      "source": [
        "#delete the deployed webservice\r\n",
        "service.delete()"
      ],
      "outputs": [],
      "execution_count": null,
      "metadata": {
        "collapsed": true,
        "jupyter": {
          "source_hidden": false,
          "outputs_hidden": false
        },
        "nteract": {
          "transient": {
            "deleting": false
          }
        }
      }
    }
  ],
  "metadata": {
    "kernel_info": {
      "name": "python3"
    },
    "kernelspec": {
      "name": "python3",
      "language": "python",
      "display_name": "Python 3"
    },
    "language_info": {
      "name": "python",
      "version": "3.6.9",
      "mimetype": "text/x-python",
      "codemirror_mode": {
        "name": "ipython",
        "version": 3
      },
      "pygments_lexer": "ipython3",
      "nbconvert_exporter": "python",
      "file_extension": ".py"
    },
    "nteract": {
      "version": "nteract-front-end@1.0.0"
    },
    "microsoft": {
      "host": {
        "AzureML": {
          "notebookHasBeenCompleted": true
        }
      }
    }
  },
  "nbformat": 4,
  "nbformat_minor": 2
}